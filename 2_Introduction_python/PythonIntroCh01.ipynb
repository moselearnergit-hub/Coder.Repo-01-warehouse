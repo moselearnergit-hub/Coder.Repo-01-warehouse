{
  "cells": [
    {
      "cell_type": "markdown",
      "metadata": {
        "id": "view-in-github",
        "colab_type": "text"
      },
      "source": [
        "<a href=\"https://colab.research.google.com/github/moselearnergit-hub/Coder.Repo-01-warehouse/blob/main/2_Introduction_python/PythonIntroCh01.ipynb\" target=\"_parent\"><img src=\"https://colab.research.google.com/assets/colab-badge.svg\" alt=\"Open In Colab\"/></a>"
      ]
    },
    {
      "cell_type": "markdown",
      "metadata": {
        "id": "vv49rcC6VQFK"
      },
      "source": [
        "< [Contents](PythonIntro.ipynb) | [Programs in a file, variables and strings](PythonIntroCh02.ipynb) >"
      ]
    },
    {
      "cell_type": "markdown",
      "metadata": {
        "id": "MHW3FJXkVQFN"
      },
      "source": [
        "# 1. Very simple 'programs'\n",
        "## 1.1 Running Python from the command line\n",
        "In order to test pieces of code we can run Python from the command line. In this Jupyter Notebook we are going to simulate this. You can type the commands in the fields and execute them.<br>\n",
        "In the field type:<br>\n",
        "```python\n",
        "print('Hello, World')\n",
        "```\n",
        "Then press `<shift> + <return>` to execute the command.\n",
        "\n"
      ]
    },
    {
      "cell_type": "code",
      "execution_count": null,
      "metadata": {
        "id": "ql9nmfovVQFO"
      },
      "outputs": [],
      "source": []
    },
    {
      "cell_type": "markdown",
      "metadata": {
        "id": "OEmxb1opVQFP"
      },
      "source": [
        "What happened?\n",
        "\n",
        "You just created a program, that prints the words 'Hello, World'. The Python environment that you are in immediately compiles whatever you have typed in. This is useful for testing things, e.g. define a few variables, and then test to see if a certain line will work. That will come in a later lesson, though."
      ]
    },
    {
      "cell_type": "markdown",
      "metadata": {
        "id": "hhihareBVQFP"
      },
      "source": [
        "## 1.2 Math in Python\n",
        "Type<br>\n",
        "```python\n",
        "1 + 1\n",
        "```\n",
        "and execute the code."
      ]
    },
    {
      "cell_type": "code",
      "execution_count": 1,
      "metadata": {
        "scrolled": true,
        "id": "C-dUr2O-VQFP",
        "outputId": "1be4403c-0c1b-4cd6-c7ee-beca033db313",
        "colab": {
          "base_uri": "https://localhost:8080/"
        }
      },
      "outputs": [
        {
          "output_type": "execute_result",
          "data": {
            "text/plain": [
              "1"
            ]
          },
          "metadata": {},
          "execution_count": 1
        }
      ],
      "source": [
        " + 1"
      ]
    },
    {
      "cell_type": "markdown",
      "metadata": {
        "id": "XVUi9tXeVQFQ"
      },
      "source": [
        "Now type\n",
        "```python\n",
        "20 + 80\n",
        "```\n",
        "and execute the code."
      ]
    },
    {
      "cell_type": "code",
      "execution_count": 2,
      "metadata": {
        "id": "GkU66Wo5VQFR",
        "outputId": "33705422-3472-4e4d-fbc7-8af8424023f3",
        "colab": {
          "base_uri": "https://localhost:8080/"
        }
      },
      "outputs": [
        {
          "output_type": "execute_result",
          "data": {
            "text/plain": [
              "100"
            ]
          },
          "metadata": {},
          "execution_count": 2
        }
      ],
      "source": [
        "20+80"
      ]
    },
    {
      "cell_type": "markdown",
      "metadata": {
        "id": "1EyXhhkkVQFR"
      },
      "source": [
        "These are additions. We can of course use other mathematical operators.<br>\n",
        "Try this subtraction:<br>\n",
        "```python\n",
        "6 - 5\n",
        "```"
      ]
    },
    {
      "cell_type": "code",
      "execution_count": 3,
      "metadata": {
        "id": "kFYj-pAFVQFR",
        "outputId": "d4692c55-0893-448f-993e-452bb6a945ef",
        "colab": {
          "base_uri": "https://localhost:8080/"
        }
      },
      "outputs": [
        {
          "output_type": "execute_result",
          "data": {
            "text/plain": [
              "1"
            ]
          },
          "metadata": {},
          "execution_count": 3
        }
      ],
      "source": [
        "6-5"
      ]
    },
    {
      "cell_type": "markdown",
      "metadata": {
        "id": "gcPfn88CVQFR"
      },
      "source": [
        "and this multiplication:<br>\n",
        "```python\n",
        "2 * 5\n",
        "```"
      ]
    },
    {
      "cell_type": "code",
      "execution_count": 4,
      "metadata": {
        "id": "mu5LJlp2VQFS",
        "outputId": "3390d332-713a-4f33-f260-809280b6bf74",
        "colab": {
          "base_uri": "https://localhost:8080/"
        }
      },
      "outputs": [
        {
          "output_type": "execute_result",
          "data": {
            "text/plain": [
              "10"
            ]
          },
          "metadata": {},
          "execution_count": 4
        }
      ],
      "source": [
        "2*5"
      ]
    },
    {
      "cell_type": "markdown",
      "metadata": {
        "id": "2egTeFZdVQFS"
      },
      "source": [
        "Try:\n",
        "```python\n",
        "5 ** 2\n",
        "```"
      ]
    },
    {
      "cell_type": "code",
      "execution_count": 5,
      "metadata": {
        "id": "65fC58YFVQFS",
        "outputId": "f6a4aaea-3f9e-47aa-df8c-d8a45284e4f6",
        "colab": {
          "base_uri": "https://localhost:8080/"
        }
      },
      "outputs": [
        {
          "output_type": "execute_result",
          "data": {
            "text/plain": [
              "25"
            ]
          },
          "metadata": {},
          "execution_count": 5
        }
      ],
      "source": [
        "5**2"
      ]
    },
    {
      "cell_type": "markdown",
      "metadata": {
        "id": "2Vqv5JyuVQFS"
      },
      "source": [
        "`**` is the exponential operator, so we executed 5 squared."
      ]
    },
    {
      "cell_type": "markdown",
      "metadata": {
        "id": "KxtLruuWVQFS"
      },
      "source": [
        "Type:\n",
        "```python\n",
        "print('1 + 2 is an addition')\n",
        "```"
      ]
    },
    {
      "cell_type": "code",
      "execution_count": 6,
      "metadata": {
        "id": "39zqjPTpVQFS",
        "outputId": "34e018e6-62c6-4149-91b0-85382f91fd3b",
        "colab": {
          "base_uri": "https://localhost:8080/"
        }
      },
      "outputs": [
        {
          "output_type": "stream",
          "name": "stdout",
          "text": [
            "1 + 2 is an addition\n"
          ]
        }
      ],
      "source": [
        "print('1 + 2 is an addition')"
      ]
    },
    {
      "cell_type": "markdown",
      "metadata": {
        "id": "B679CWbKVQFT"
      },
      "source": [
        "You see that the `print` statement writes something on the screen.\n",
        "\n",
        "Try this:\n",
        "```python\n",
        "print('one kilobyte is 2^10 bytes, or', 2 ** 10, 'bytes')\n",
        "```"
      ]
    },
    {
      "cell_type": "code",
      "execution_count": 7,
      "metadata": {
        "id": "qTvGX18iVQFT",
        "outputId": "8ed1cc2f-35fc-4ff6-f7a8-a499273c7dc6",
        "colab": {
          "base_uri": "https://localhost:8080/"
        }
      },
      "outputs": [
        {
          "output_type": "stream",
          "name": "stdout",
          "text": [
            "one kilobyte is 2^10 bytes, or 1024 bytes\n"
          ]
        }
      ],
      "source": [
        "print('one kilobyte is 2^10 bytes, or', 2 ** 10, 'bytes')"
      ]
    },
    {
      "cell_type": "markdown",
      "metadata": {
        "id": "Qshc0Q28VQFT"
      },
      "source": [
        "This demonstrates that you can print text and calculations in a sentence. The commas separating each section are a way of separating strings (text) from calculations or variable."
      ]
    },
    {
      "cell_type": "markdown",
      "metadata": {
        "id": "fyYH1paAVQFT"
      },
      "source": [
        "Now try this:\n",
        "```python\n",
        "23 / 3\n",
        "```"
      ]
    },
    {
      "cell_type": "code",
      "execution_count": 8,
      "metadata": {
        "id": "8VvHjLnuVQFT",
        "outputId": "ea7ec92f-903f-4bfb-b494-0e3b0a96ca26",
        "colab": {
          "base_uri": "https://localhost:8080/"
        }
      },
      "outputs": [
        {
          "output_type": "execute_result",
          "data": {
            "text/plain": [
              "7.666666666666667"
            ]
          },
          "metadata": {},
          "execution_count": 8
        }
      ],
      "source": [
        "23/3"
      ]
    },
    {
      "cell_type": "markdown",
      "metadata": {
        "id": "WVheew6MVQFT"
      },
      "source": [
        "And this:<br>\n",
        "```python\n",
        "23 % 3\n",
        "```"
      ]
    },
    {
      "cell_type": "code",
      "execution_count": 9,
      "metadata": {
        "id": "liIk2ypKVQFT",
        "outputId": "af57cfe5-5e32-4c57-81e4-e0e8be7db0a6",
        "colab": {
          "base_uri": "https://localhost:8080/"
        }
      },
      "outputs": [
        {
          "output_type": "execute_result",
          "data": {
            "text/plain": [
              "2"
            ]
          },
          "metadata": {},
          "execution_count": 9
        }
      ],
      "source": [
        "23%3"
      ]
    },
    {
      "cell_type": "markdown",
      "metadata": {
        "id": "E373LSbLVQFT"
      },
      "source": [
        "`%` returns the remainder of the division."
      ]
    },
    {
      "cell_type": "markdown",
      "metadata": {
        "id": "znJCT3b3VQFT"
      },
      "source": [
        "## 1.3 Order of Operations"
      ]
    },
    {
      "cell_type": "markdown",
      "metadata": {
        "id": "I1N81fxhVQFU"
      },
      "source": [
        "Remember that thing called order of operation that they taught in maths? Well, it applies in Python, too. Here it is, if you need reminding:<br>\n",
        "1. Parenthesis `()`\n",
        "2. Exponents `**`\n",
        "3. Multiplication `*`, division `/` and remainder `%`\n",
        "4. Addition `+` and subtraction `-`"
      ]
    },
    {
      "cell_type": "markdown",
      "metadata": {
        "id": "vLEIilMZVQFU"
      },
      "source": [
        "Here are some examples that you might want to try, if you're rusty on this:<br>\n",
        "```python\n",
        "1 + 2 * 3\n",
        "(1 + 2) * 3\n",
        "```"
      ]
    },
    {
      "cell_type": "code",
      "execution_count": 10,
      "metadata": {
        "id": "CUYMbo4TVQFU",
        "outputId": "2a1c3764-a7f0-4119-da6e-06ae1b33b897",
        "colab": {
          "base_uri": "https://localhost:8080/"
        }
      },
      "outputs": [
        {
          "output_type": "execute_result",
          "data": {
            "text/plain": [
              "7"
            ]
          },
          "metadata": {},
          "execution_count": 10
        }
      ],
      "source": [
        "1 + 2 * 3"
      ]
    },
    {
      "cell_type": "code",
      "execution_count": 11,
      "metadata": {
        "id": "9UFFVuq9VQFU",
        "outputId": "6ff07752-2ef0-4d1b-d034-1ae61580c15f",
        "colab": {
          "base_uri": "https://localhost:8080/"
        }
      },
      "outputs": [
        {
          "output_type": "execute_result",
          "data": {
            "text/plain": [
              "9"
            ]
          },
          "metadata": {},
          "execution_count": 11
        }
      ],
      "source": [
        "(1 + 2) * 3"
      ]
    },
    {
      "cell_type": "markdown",
      "metadata": {
        "id": "UAesZoa8VQFU"
      },
      "source": [
        "## 1.4 Comments, Please\n",
        "The final thing you'll need to know to move on to multi-line programs is the comment. Type the following (and yes, the output is shown):\n",
        "```python\n",
        "# I am a comment. Fear my wrath!\n",
        "```"
      ]
    },
    {
      "cell_type": "code",
      "execution_count": 12,
      "metadata": {
        "id": "ZphdSxrGVQFU"
      },
      "outputs": [],
      "source": [
        "# I am a comment. Fear my wrath!"
      ]
    },
    {
      "cell_type": "markdown",
      "metadata": {
        "id": "JOce3DpdVQFU"
      },
      "source": [
        "A comment is a piece of code that is not run. In Python, you make something a comment by putting a hash in front of it. A hash comments everything after it in the line, and nothing before it. So you could type this:\n",
        "```python\n",
        "print(\"food is very nice\") #eat me\n",
        "```"
      ]
    },
    {
      "cell_type": "code",
      "execution_count": 13,
      "metadata": {
        "id": "5WtKwnYnVQFU",
        "outputId": "42e2eeac-7865-4eee-c1c1-bab9b69c3bad",
        "colab": {
          "base_uri": "https://localhost:8080/"
        }
      },
      "outputs": [
        {
          "output_type": "stream",
          "name": "stdout",
          "text": [
            "food is very nice\n"
          ]
        }
      ],
      "source": [
        "print(\"food is very nice\") #eat me"
      ]
    },
    {
      "cell_type": "markdown",
      "metadata": {
        "id": "G3OekOv-VQFU"
      },
      "source": [
        "This results in a normal output, without the smutty comment, thank you very much.\n",
        "\n",
        "Now try this:\n",
        "```python\n",
        "# print(\"food is very nice\")\n",
        "```"
      ]
    },
    {
      "cell_type": "code",
      "execution_count": 14,
      "metadata": {
        "id": "_d8iDeTqVQFU"
      },
      "outputs": [],
      "source": [
        "# print(\"food is very nice\")"
      ]
    },
    {
      "cell_type": "markdown",
      "metadata": {
        "id": "pILAfNgMVQFV"
      },
      "source": [
        "Nothing happens, because the code was after a comment."
      ]
    },
    {
      "cell_type": "markdown",
      "metadata": {
        "id": "JaWkepOTVQFV"
      },
      "source": [
        "Comments are important for adding necessary information for another programmer to read, but not the computer. For example, an explanation of a section of code, saying what it does, or what is wrong with it. You can also comment bits of code by putting a `#` in front of it - if you don't want it to compile, but can't delete it because you might need it later."
      ]
    },
    {
      "cell_type": "markdown",
      "metadata": {
        "id": "gYkIhmDAVQFV"
      },
      "source": [
        "< [Contents](PythonIntro.ipynb) | [Programs in a file, variables and strings](PythonIntroCh02.ipynb) >"
      ]
    }
  ],
  "metadata": {
    "kernelspec": {
      "display_name": "Python 3 (ipykernel)",
      "language": "python",
      "name": "python3"
    },
    "language_info": {
      "codemirror_mode": {
        "name": "ipython",
        "version": 3
      },
      "file_extension": ".py",
      "mimetype": "text/x-python",
      "name": "python",
      "nbconvert_exporter": "python",
      "pygments_lexer": "ipython3",
      "version": "3.12.2"
    },
    "colab": {
      "provenance": [],
      "include_colab_link": true
    }
  },
  "nbformat": 4,
  "nbformat_minor": 0
}